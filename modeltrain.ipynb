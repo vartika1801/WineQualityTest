{
 "cells": [
  {
   "cell_type": "code",
   "execution_count": 1,
   "metadata": {},
   "outputs": [
    {
     "name": "stdout",
     "output_type": "stream",
     "text": [
      "Model and scaler saved successfully.\n"
     ]
    }
   ],
   "source": [
    "# model_training.py\n",
    "import pandas as pd\n",
    "from sklearn.model_selection import train_test_split\n",
    "from sklearn.preprocessing import MinMaxScaler\n",
    "from sklearn.linear_model import LogisticRegression\n",
    "import pickle\n",
    "\n",
    "# Load the dataset\n",
    "df = pd.read_csv('./winequalityN.csv')\n",
    "\n",
    "# Remove spaces from column headers\n",
    "df.columns = df.columns.str.replace(' ', '_')\n",
    "\n",
    "# Encode 'type' as a numeric category\n",
    "df['type'] = df['type'].map({'red': 0, 'white': 1})\n",
    "\n",
    "# Preprocessing\n",
    "df = df.apply(pd.to_numeric, errors='coerce').fillna(0)\n",
    "df['best_quality'] = [1 if x > 5 else 0 for x in df['quality']]\n",
    "\n",
    "# Prepare features and target\n",
    "features = df.drop(['quality', 'best_quality'], axis=1)\n",
    "target = df['best_quality']\n",
    "\n",
    "# Split the data\n",
    "xtrain, xtest, ytrain, ytest = train_test_split(features, target, test_size=0.2, random_state=40)\n",
    "\n",
    "# Normalize the features\n",
    "scaler = MinMaxScaler()\n",
    "xtrain = scaler.fit_transform(xtrain)\n",
    "xtest = scaler.transform(xtest)\n",
    "\n",
    "# Train the model\n",
    "model = LogisticRegression()\n",
    "model.fit(xtrain, ytrain)\n",
    "\n",
    "# Save the model and scaler as pickled files\n",
    "with open(\"logreg_model.pkl\", \"wb\") as model_file:\n",
    "    pickle.dump(model, model_file)\n",
    "with open(\"scaler.pkl\", \"wb\") as scaler_file:\n",
    "    pickle.dump(scaler, scaler_file)\n",
    "\n",
    "print(\"Model and scaler saved successfully.\")\n"
   ]
  }
 ],
 "metadata": {
  "kernelspec": {
   "display_name": "Python 3",
   "language": "python",
   "name": "python3"
  },
  "language_info": {
   "codemirror_mode": {
    "name": "ipython",
    "version": 3
   },
   "file_extension": ".py",
   "mimetype": "text/x-python",
   "name": "python",
   "nbconvert_exporter": "python",
   "pygments_lexer": "ipython3",
   "version": "3.12.4"
  }
 },
 "nbformat": 4,
 "nbformat_minor": 2
}
